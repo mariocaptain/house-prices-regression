{
 "cells": [
  {
   "cell_type": "markdown",
   "metadata": {
    "id": "gOKQYvZ5UVyN"
   },
   "source": [
    "# I. DATA PREPARATION"
   ]
  },
  {
   "cell_type": "code",
   "execution_count": 1,
   "metadata": {
    "executionInfo": {
     "elapsed": 991,
     "status": "ok",
     "timestamp": 1713143739887,
     "user": {
      "displayName": "Nguyen Duc Quoc Anh",
      "userId": "05926175353841331871"
     },
     "user_tz": -420
    },
    "id": "R10Mz-1FTAV0"
   },
   "outputs": [],
   "source": [
    "import pandas as pd\n",
    "import numpy as np\n",
    "import matplotlib.pyplot as plt\n",
    "%matplotlib inline\n",
    "train_data = pd.read_csv('data/train.csv')\n",
    "test_data = pd.read_csv('data/test.csv')"
   ]
  },
  {
   "cell_type": "code",
   "execution_count": 2,
   "metadata": {
    "colab": {
     "base_uri": "https://localhost:8080/"
    },
    "executionInfo": {
     "elapsed": 340,
     "status": "ok",
     "timestamp": 1713143773585,
     "user": {
      "displayName": "Nguyen Duc Quoc Anh",
      "userId": "05926175353841331871"
     },
     "user_tz": -420
    },
    "id": "4CiUSnhVUu3G",
    "outputId": "a00a56b8-4156-488c-c10f-d6a2542d7873"
   },
   "outputs": [
    {
     "data": {
      "text/plain": [
       "((1460, 81), (1459, 80))"
      ]
     },
     "execution_count": 2,
     "metadata": {},
     "output_type": "execute_result"
    }
   ],
   "source": [
    "train_data.shape, test_data.shape"
   ]
  },
  {
   "cell_type": "markdown",
   "metadata": {
    "id": "tDJKH4nKU7XF"
   },
   "source": [
    "## 1. CHECK MISSING DATA"
   ]
  },
  {
   "cell_type": "markdown",
   "metadata": {},
   "source": [
    "### 1.1 Data Overview"
   ]
  },
  {
   "cell_type": "code",
   "execution_count": 3,
   "metadata": {},
   "outputs": [
    {
     "data": {
      "text/html": [
       "<div>\n",
       "<style scoped>\n",
       "    .dataframe tbody tr th:only-of-type {\n",
       "        vertical-align: middle;\n",
       "    }\n",
       "\n",
       "    .dataframe tbody tr th {\n",
       "        vertical-align: top;\n",
       "    }\n",
       "\n",
       "    .dataframe thead th {\n",
       "        text-align: right;\n",
       "    }\n",
       "</style>\n",
       "<table border=\"1\" class=\"dataframe\">\n",
       "  <thead>\n",
       "    <tr style=\"text-align: right;\">\n",
       "      <th></th>\n",
       "      <th>0</th>\n",
       "      <th>% Missing</th>\n",
       "    </tr>\n",
       "  </thead>\n",
       "  <tbody>\n",
       "    <tr>\n",
       "      <th>LotFrontage</th>\n",
       "      <td>259</td>\n",
       "      <td>17.7397</td>\n",
       "    </tr>\n",
       "    <tr>\n",
       "      <th>Alley</th>\n",
       "      <td>1369</td>\n",
       "      <td>93.7671</td>\n",
       "    </tr>\n",
       "    <tr>\n",
       "      <th>MasVnrType</th>\n",
       "      <td>872</td>\n",
       "      <td>59.7260</td>\n",
       "    </tr>\n",
       "    <tr>\n",
       "      <th>MasVnrArea</th>\n",
       "      <td>8</td>\n",
       "      <td>0.5479</td>\n",
       "    </tr>\n",
       "    <tr>\n",
       "      <th>BsmtQual</th>\n",
       "      <td>37</td>\n",
       "      <td>2.5342</td>\n",
       "    </tr>\n",
       "    <tr>\n",
       "      <th>BsmtCond</th>\n",
       "      <td>37</td>\n",
       "      <td>2.5342</td>\n",
       "    </tr>\n",
       "    <tr>\n",
       "      <th>BsmtExposure</th>\n",
       "      <td>38</td>\n",
       "      <td>2.6027</td>\n",
       "    </tr>\n",
       "    <tr>\n",
       "      <th>BsmtFinType1</th>\n",
       "      <td>37</td>\n",
       "      <td>2.5342</td>\n",
       "    </tr>\n",
       "    <tr>\n",
       "      <th>BsmtFinType2</th>\n",
       "      <td>38</td>\n",
       "      <td>2.6027</td>\n",
       "    </tr>\n",
       "    <tr>\n",
       "      <th>Electrical</th>\n",
       "      <td>1</td>\n",
       "      <td>0.0685</td>\n",
       "    </tr>\n",
       "    <tr>\n",
       "      <th>FireplaceQu</th>\n",
       "      <td>690</td>\n",
       "      <td>47.2603</td>\n",
       "    </tr>\n",
       "    <tr>\n",
       "      <th>GarageType</th>\n",
       "      <td>81</td>\n",
       "      <td>5.5479</td>\n",
       "    </tr>\n",
       "    <tr>\n",
       "      <th>GarageYrBlt</th>\n",
       "      <td>81</td>\n",
       "      <td>5.5479</td>\n",
       "    </tr>\n",
       "    <tr>\n",
       "      <th>GarageFinish</th>\n",
       "      <td>81</td>\n",
       "      <td>5.5479</td>\n",
       "    </tr>\n",
       "    <tr>\n",
       "      <th>GarageQual</th>\n",
       "      <td>81</td>\n",
       "      <td>5.5479</td>\n",
       "    </tr>\n",
       "    <tr>\n",
       "      <th>GarageCond</th>\n",
       "      <td>81</td>\n",
       "      <td>5.5479</td>\n",
       "    </tr>\n",
       "    <tr>\n",
       "      <th>PoolQC</th>\n",
       "      <td>1453</td>\n",
       "      <td>99.5205</td>\n",
       "    </tr>\n",
       "    <tr>\n",
       "      <th>Fence</th>\n",
       "      <td>1179</td>\n",
       "      <td>80.7534</td>\n",
       "    </tr>\n",
       "    <tr>\n",
       "      <th>MiscFeature</th>\n",
       "      <td>1406</td>\n",
       "      <td>96.3014</td>\n",
       "    </tr>\n",
       "  </tbody>\n",
       "</table>\n",
       "</div>"
      ],
      "text/plain": [
       "                 0  % Missing\n",
       "LotFrontage    259    17.7397\n",
       "Alley         1369    93.7671\n",
       "MasVnrType     872    59.7260\n",
       "MasVnrArea       8     0.5479\n",
       "BsmtQual        37     2.5342\n",
       "BsmtCond        37     2.5342\n",
       "BsmtExposure    38     2.6027\n",
       "BsmtFinType1    37     2.5342\n",
       "BsmtFinType2    38     2.6027\n",
       "Electrical       1     0.0685\n",
       "FireplaceQu    690    47.2603\n",
       "GarageType      81     5.5479\n",
       "GarageYrBlt     81     5.5479\n",
       "GarageFinish    81     5.5479\n",
       "GarageQual      81     5.5479\n",
       "GarageCond      81     5.5479\n",
       "PoolQC        1453    99.5205\n",
       "Fence         1179    80.7534\n",
       "MiscFeature   1406    96.3014"
      ]
     },
     "execution_count": 3,
     "metadata": {},
     "output_type": "execute_result"
    }
   ],
   "source": [
    "# Set the display option to show all columns\n",
    "pd.set_option('display.max_rows', None)\n",
    "pd.set_option('display.max_columns', None)\n",
    "\n",
    "# List of train_data columns with missing data\n",
    "train_missing_cols = train_data.columns[train_data.isna().any()].tolist()\n",
    "\n",
    "missing_train_data_percentage = (train_data.isna().sum() / (len(train_data)) * 100).round(4)\n",
    "missing_train_data_summary = pd.concat([train_data.isna().sum(), missing_train_data_percentage.rename('% Missing')], axis=1)\n",
    "\n",
    "# Filter out columns with 0% missing data\n",
    "missing_train_data_summary = missing_train_data_summary[missing_train_data_summary['% Missing'] != 0]\n",
    "missing_train_data_summary"
   ]
  },
  {
   "cell_type": "code",
   "execution_count": 4,
   "metadata": {},
   "outputs": [
    {
     "data": {
      "text/html": [
       "<div>\n",
       "<style scoped>\n",
       "    .dataframe tbody tr th:only-of-type {\n",
       "        vertical-align: middle;\n",
       "    }\n",
       "\n",
       "    .dataframe tbody tr th {\n",
       "        vertical-align: top;\n",
       "    }\n",
       "\n",
       "    .dataframe thead th {\n",
       "        text-align: right;\n",
       "    }\n",
       "</style>\n",
       "<table border=\"1\" class=\"dataframe\">\n",
       "  <thead>\n",
       "    <tr style=\"text-align: right;\">\n",
       "      <th></th>\n",
       "      <th>0</th>\n",
       "      <th>% Missing</th>\n",
       "    </tr>\n",
       "  </thead>\n",
       "  <tbody>\n",
       "    <tr>\n",
       "      <th>MSZoning</th>\n",
       "      <td>4</td>\n",
       "      <td>0.2742</td>\n",
       "    </tr>\n",
       "    <tr>\n",
       "      <th>LotFrontage</th>\n",
       "      <td>227</td>\n",
       "      <td>15.5586</td>\n",
       "    </tr>\n",
       "    <tr>\n",
       "      <th>Alley</th>\n",
       "      <td>1352</td>\n",
       "      <td>92.6662</td>\n",
       "    </tr>\n",
       "    <tr>\n",
       "      <th>Utilities</th>\n",
       "      <td>2</td>\n",
       "      <td>0.1371</td>\n",
       "    </tr>\n",
       "    <tr>\n",
       "      <th>Exterior1st</th>\n",
       "      <td>1</td>\n",
       "      <td>0.0685</td>\n",
       "    </tr>\n",
       "    <tr>\n",
       "      <th>Exterior2nd</th>\n",
       "      <td>1</td>\n",
       "      <td>0.0685</td>\n",
       "    </tr>\n",
       "    <tr>\n",
       "      <th>MasVnrType</th>\n",
       "      <td>894</td>\n",
       "      <td>61.2748</td>\n",
       "    </tr>\n",
       "    <tr>\n",
       "      <th>MasVnrArea</th>\n",
       "      <td>15</td>\n",
       "      <td>1.0281</td>\n",
       "    </tr>\n",
       "    <tr>\n",
       "      <th>BsmtQual</th>\n",
       "      <td>44</td>\n",
       "      <td>3.0158</td>\n",
       "    </tr>\n",
       "    <tr>\n",
       "      <th>BsmtCond</th>\n",
       "      <td>45</td>\n",
       "      <td>3.0843</td>\n",
       "    </tr>\n",
       "    <tr>\n",
       "      <th>BsmtExposure</th>\n",
       "      <td>44</td>\n",
       "      <td>3.0158</td>\n",
       "    </tr>\n",
       "    <tr>\n",
       "      <th>BsmtFinType1</th>\n",
       "      <td>42</td>\n",
       "      <td>2.8787</td>\n",
       "    </tr>\n",
       "    <tr>\n",
       "      <th>BsmtFinSF1</th>\n",
       "      <td>1</td>\n",
       "      <td>0.0685</td>\n",
       "    </tr>\n",
       "    <tr>\n",
       "      <th>BsmtFinType2</th>\n",
       "      <td>42</td>\n",
       "      <td>2.8787</td>\n",
       "    </tr>\n",
       "    <tr>\n",
       "      <th>BsmtFinSF2</th>\n",
       "      <td>1</td>\n",
       "      <td>0.0685</td>\n",
       "    </tr>\n",
       "    <tr>\n",
       "      <th>BsmtUnfSF</th>\n",
       "      <td>1</td>\n",
       "      <td>0.0685</td>\n",
       "    </tr>\n",
       "    <tr>\n",
       "      <th>TotalBsmtSF</th>\n",
       "      <td>1</td>\n",
       "      <td>0.0685</td>\n",
       "    </tr>\n",
       "    <tr>\n",
       "      <th>BsmtFullBath</th>\n",
       "      <td>2</td>\n",
       "      <td>0.1371</td>\n",
       "    </tr>\n",
       "    <tr>\n",
       "      <th>BsmtHalfBath</th>\n",
       "      <td>2</td>\n",
       "      <td>0.1371</td>\n",
       "    </tr>\n",
       "    <tr>\n",
       "      <th>KitchenQual</th>\n",
       "      <td>1</td>\n",
       "      <td>0.0685</td>\n",
       "    </tr>\n",
       "    <tr>\n",
       "      <th>Functional</th>\n",
       "      <td>2</td>\n",
       "      <td>0.1371</td>\n",
       "    </tr>\n",
       "    <tr>\n",
       "      <th>FireplaceQu</th>\n",
       "      <td>730</td>\n",
       "      <td>50.0343</td>\n",
       "    </tr>\n",
       "    <tr>\n",
       "      <th>GarageType</th>\n",
       "      <td>76</td>\n",
       "      <td>5.2090</td>\n",
       "    </tr>\n",
       "    <tr>\n",
       "      <th>GarageYrBlt</th>\n",
       "      <td>78</td>\n",
       "      <td>5.3461</td>\n",
       "    </tr>\n",
       "    <tr>\n",
       "      <th>GarageFinish</th>\n",
       "      <td>78</td>\n",
       "      <td>5.3461</td>\n",
       "    </tr>\n",
       "    <tr>\n",
       "      <th>GarageCars</th>\n",
       "      <td>1</td>\n",
       "      <td>0.0685</td>\n",
       "    </tr>\n",
       "    <tr>\n",
       "      <th>GarageArea</th>\n",
       "      <td>1</td>\n",
       "      <td>0.0685</td>\n",
       "    </tr>\n",
       "    <tr>\n",
       "      <th>GarageQual</th>\n",
       "      <td>78</td>\n",
       "      <td>5.3461</td>\n",
       "    </tr>\n",
       "    <tr>\n",
       "      <th>GarageCond</th>\n",
       "      <td>78</td>\n",
       "      <td>5.3461</td>\n",
       "    </tr>\n",
       "    <tr>\n",
       "      <th>PoolQC</th>\n",
       "      <td>1456</td>\n",
       "      <td>99.7944</td>\n",
       "    </tr>\n",
       "    <tr>\n",
       "      <th>Fence</th>\n",
       "      <td>1169</td>\n",
       "      <td>80.1234</td>\n",
       "    </tr>\n",
       "    <tr>\n",
       "      <th>MiscFeature</th>\n",
       "      <td>1408</td>\n",
       "      <td>96.5045</td>\n",
       "    </tr>\n",
       "    <tr>\n",
       "      <th>SaleType</th>\n",
       "      <td>1</td>\n",
       "      <td>0.0685</td>\n",
       "    </tr>\n",
       "  </tbody>\n",
       "</table>\n",
       "</div>"
      ],
      "text/plain": [
       "                 0  % Missing\n",
       "MSZoning         4     0.2742\n",
       "LotFrontage    227    15.5586\n",
       "Alley         1352    92.6662\n",
       "Utilities        2     0.1371\n",
       "Exterior1st      1     0.0685\n",
       "Exterior2nd      1     0.0685\n",
       "MasVnrType     894    61.2748\n",
       "MasVnrArea      15     1.0281\n",
       "BsmtQual        44     3.0158\n",
       "BsmtCond        45     3.0843\n",
       "BsmtExposure    44     3.0158\n",
       "BsmtFinType1    42     2.8787\n",
       "BsmtFinSF1       1     0.0685\n",
       "BsmtFinType2    42     2.8787\n",
       "BsmtFinSF2       1     0.0685\n",
       "BsmtUnfSF        1     0.0685\n",
       "TotalBsmtSF      1     0.0685\n",
       "BsmtFullBath     2     0.1371\n",
       "BsmtHalfBath     2     0.1371\n",
       "KitchenQual      1     0.0685\n",
       "Functional       2     0.1371\n",
       "FireplaceQu    730    50.0343\n",
       "GarageType      76     5.2090\n",
       "GarageYrBlt     78     5.3461\n",
       "GarageFinish    78     5.3461\n",
       "GarageCars       1     0.0685\n",
       "GarageArea       1     0.0685\n",
       "GarageQual      78     5.3461\n",
       "GarageCond      78     5.3461\n",
       "PoolQC        1456    99.7944\n",
       "Fence         1169    80.1234\n",
       "MiscFeature   1408    96.5045\n",
       "SaleType         1     0.0685"
      ]
     },
     "execution_count": 4,
     "metadata": {},
     "output_type": "execute_result"
    }
   ],
   "source": [
    "# List of test_data columns with missing data\n",
    "# List of test_data columns with missing data\n",
    "test_missing_cols = test_data.columns[test_data.isna().any()].tolist()\n",
    "\n",
    "missing_test_data_percentage = (test_data.isna().sum() / (len(test_data)) * 100).round(4)\n",
    "missing_test_data_summary = pd.concat([test_data.isna().sum(), missing_test_data_percentage.rename('% Missing')], axis=1)\n",
    "\n",
    "# Filter out columns with 0% missing data\n",
    "missing_test_data_summary = missing_test_data_summary[missing_test_data_summary['% Missing'] != 0]\n",
    "missing_test_data_summary"
   ]
  },
  {
   "cell_type": "markdown",
   "metadata": {},
   "source": [
    "### 1.2 Are The Sets of Columns With Missing Data The Same?"
   ]
  },
  {
   "cell_type": "code",
   "execution_count": 5,
   "metadata": {},
   "outputs": [
    {
     "name": "stdout",
     "output_type": "stream",
     "text": [
      "The lists of columns with missing cells are not identical.\n"
     ]
    }
   ],
   "source": [
    "# Check if the lists of columns are identical\n",
    "if set(train_missing_cols) == set(test_missing_cols):\n",
    "    print(\"The lists of columns with missing cells are identical.\")\n",
    "else:\n",
    "    print(\"The lists of columns with missing cells are not identical.\")"
   ]
  },
  {
   "cell_type": "markdown",
   "metadata": {},
   "source": [
    "## 2. MISSING DATA TREATMENT"
   ]
  },
  {
   "cell_type": "markdown",
   "metadata": {},
   "source": [
    "### 2.1 How Much of the Total Data is Missing"
   ]
  },
  {
   "cell_type": "code",
   "execution_count": 6,
   "metadata": {},
   "outputs": [
    {
     "data": {
      "text/plain": [
       "(2919, 80)"
      ]
     },
     "execution_count": 6,
     "metadata": {},
     "output_type": "execute_result"
    }
   ],
   "source": [
    "# Let's combine the data in data/train.csv and data/test.csv into 1 large DataFrame to analyse.\n",
    "# Concatenate the two DataFrames vertically\n",
    "combined_data = pd.concat([train_data.drop(\"SalePrice\", axis=1), test_data])\n",
    "\n",
    "# Reset the index of the combined DataFrame\n",
    "combined_data.reset_index(drop=True, inplace=True)\n",
    "combined_data.shape"
   ]
  },
  {
   "cell_type": "code",
   "execution_count": 7,
   "metadata": {},
   "outputs": [
    {
     "data": {
      "text/html": [
       "<div>\n",
       "<style scoped>\n",
       "    .dataframe tbody tr th:only-of-type {\n",
       "        vertical-align: middle;\n",
       "    }\n",
       "\n",
       "    .dataframe tbody tr th {\n",
       "        vertical-align: top;\n",
       "    }\n",
       "\n",
       "    .dataframe thead th {\n",
       "        text-align: right;\n",
       "    }\n",
       "</style>\n",
       "<table border=\"1\" class=\"dataframe\">\n",
       "  <thead>\n",
       "    <tr style=\"text-align: right;\">\n",
       "      <th></th>\n",
       "      <th>0</th>\n",
       "      <th>% Missing</th>\n",
       "    </tr>\n",
       "  </thead>\n",
       "  <tbody>\n",
       "    <tr>\n",
       "      <th>MSZoning</th>\n",
       "      <td>4</td>\n",
       "      <td>0.1370</td>\n",
       "    </tr>\n",
       "    <tr>\n",
       "      <th>LotFrontage</th>\n",
       "      <td>486</td>\n",
       "      <td>16.6495</td>\n",
       "    </tr>\n",
       "    <tr>\n",
       "      <th>Alley</th>\n",
       "      <td>2721</td>\n",
       "      <td>93.2169</td>\n",
       "    </tr>\n",
       "    <tr>\n",
       "      <th>Utilities</th>\n",
       "      <td>2</td>\n",
       "      <td>0.0685</td>\n",
       "    </tr>\n",
       "    <tr>\n",
       "      <th>Exterior1st</th>\n",
       "      <td>1</td>\n",
       "      <td>0.0343</td>\n",
       "    </tr>\n",
       "    <tr>\n",
       "      <th>Exterior2nd</th>\n",
       "      <td>1</td>\n",
       "      <td>0.0343</td>\n",
       "    </tr>\n",
       "    <tr>\n",
       "      <th>MasVnrType</th>\n",
       "      <td>1766</td>\n",
       "      <td>60.5002</td>\n",
       "    </tr>\n",
       "    <tr>\n",
       "      <th>MasVnrArea</th>\n",
       "      <td>23</td>\n",
       "      <td>0.7879</td>\n",
       "    </tr>\n",
       "    <tr>\n",
       "      <th>BsmtQual</th>\n",
       "      <td>81</td>\n",
       "      <td>2.7749</td>\n",
       "    </tr>\n",
       "    <tr>\n",
       "      <th>BsmtCond</th>\n",
       "      <td>82</td>\n",
       "      <td>2.8092</td>\n",
       "    </tr>\n",
       "    <tr>\n",
       "      <th>BsmtExposure</th>\n",
       "      <td>82</td>\n",
       "      <td>2.8092</td>\n",
       "    </tr>\n",
       "    <tr>\n",
       "      <th>BsmtFinType1</th>\n",
       "      <td>79</td>\n",
       "      <td>2.7064</td>\n",
       "    </tr>\n",
       "    <tr>\n",
       "      <th>BsmtFinSF1</th>\n",
       "      <td>1</td>\n",
       "      <td>0.0343</td>\n",
       "    </tr>\n",
       "    <tr>\n",
       "      <th>BsmtFinType2</th>\n",
       "      <td>80</td>\n",
       "      <td>2.7407</td>\n",
       "    </tr>\n",
       "    <tr>\n",
       "      <th>BsmtFinSF2</th>\n",
       "      <td>1</td>\n",
       "      <td>0.0343</td>\n",
       "    </tr>\n",
       "    <tr>\n",
       "      <th>BsmtUnfSF</th>\n",
       "      <td>1</td>\n",
       "      <td>0.0343</td>\n",
       "    </tr>\n",
       "    <tr>\n",
       "      <th>TotalBsmtSF</th>\n",
       "      <td>1</td>\n",
       "      <td>0.0343</td>\n",
       "    </tr>\n",
       "    <tr>\n",
       "      <th>Electrical</th>\n",
       "      <td>1</td>\n",
       "      <td>0.0343</td>\n",
       "    </tr>\n",
       "    <tr>\n",
       "      <th>BsmtFullBath</th>\n",
       "      <td>2</td>\n",
       "      <td>0.0685</td>\n",
       "    </tr>\n",
       "    <tr>\n",
       "      <th>BsmtHalfBath</th>\n",
       "      <td>2</td>\n",
       "      <td>0.0685</td>\n",
       "    </tr>\n",
       "    <tr>\n",
       "      <th>KitchenQual</th>\n",
       "      <td>1</td>\n",
       "      <td>0.0343</td>\n",
       "    </tr>\n",
       "    <tr>\n",
       "      <th>Functional</th>\n",
       "      <td>2</td>\n",
       "      <td>0.0685</td>\n",
       "    </tr>\n",
       "    <tr>\n",
       "      <th>FireplaceQu</th>\n",
       "      <td>1420</td>\n",
       "      <td>48.6468</td>\n",
       "    </tr>\n",
       "    <tr>\n",
       "      <th>GarageType</th>\n",
       "      <td>157</td>\n",
       "      <td>5.3786</td>\n",
       "    </tr>\n",
       "    <tr>\n",
       "      <th>GarageYrBlt</th>\n",
       "      <td>159</td>\n",
       "      <td>5.4471</td>\n",
       "    </tr>\n",
       "    <tr>\n",
       "      <th>GarageFinish</th>\n",
       "      <td>159</td>\n",
       "      <td>5.4471</td>\n",
       "    </tr>\n",
       "    <tr>\n",
       "      <th>GarageCars</th>\n",
       "      <td>1</td>\n",
       "      <td>0.0343</td>\n",
       "    </tr>\n",
       "    <tr>\n",
       "      <th>GarageArea</th>\n",
       "      <td>1</td>\n",
       "      <td>0.0343</td>\n",
       "    </tr>\n",
       "    <tr>\n",
       "      <th>GarageQual</th>\n",
       "      <td>159</td>\n",
       "      <td>5.4471</td>\n",
       "    </tr>\n",
       "    <tr>\n",
       "      <th>GarageCond</th>\n",
       "      <td>159</td>\n",
       "      <td>5.4471</td>\n",
       "    </tr>\n",
       "    <tr>\n",
       "      <th>PoolQC</th>\n",
       "      <td>2909</td>\n",
       "      <td>99.6574</td>\n",
       "    </tr>\n",
       "    <tr>\n",
       "      <th>Fence</th>\n",
       "      <td>2348</td>\n",
       "      <td>80.4385</td>\n",
       "    </tr>\n",
       "    <tr>\n",
       "      <th>MiscFeature</th>\n",
       "      <td>2814</td>\n",
       "      <td>96.4029</td>\n",
       "    </tr>\n",
       "    <tr>\n",
       "      <th>SaleType</th>\n",
       "      <td>1</td>\n",
       "      <td>0.0343</td>\n",
       "    </tr>\n",
       "  </tbody>\n",
       "</table>\n",
       "</div>"
      ],
      "text/plain": [
       "                 0  % Missing\n",
       "MSZoning         4     0.1370\n",
       "LotFrontage    486    16.6495\n",
       "Alley         2721    93.2169\n",
       "Utilities        2     0.0685\n",
       "Exterior1st      1     0.0343\n",
       "Exterior2nd      1     0.0343\n",
       "MasVnrType    1766    60.5002\n",
       "MasVnrArea      23     0.7879\n",
       "BsmtQual        81     2.7749\n",
       "BsmtCond        82     2.8092\n",
       "BsmtExposure    82     2.8092\n",
       "BsmtFinType1    79     2.7064\n",
       "BsmtFinSF1       1     0.0343\n",
       "BsmtFinType2    80     2.7407\n",
       "BsmtFinSF2       1     0.0343\n",
       "BsmtUnfSF        1     0.0343\n",
       "TotalBsmtSF      1     0.0343\n",
       "Electrical       1     0.0343\n",
       "BsmtFullBath     2     0.0685\n",
       "BsmtHalfBath     2     0.0685\n",
       "KitchenQual      1     0.0343\n",
       "Functional       2     0.0685\n",
       "FireplaceQu   1420    48.6468\n",
       "GarageType     157     5.3786\n",
       "GarageYrBlt    159     5.4471\n",
       "GarageFinish   159     5.4471\n",
       "GarageCars       1     0.0343\n",
       "GarageArea       1     0.0343\n",
       "GarageQual     159     5.4471\n",
       "GarageCond     159     5.4471\n",
       "PoolQC        2909    99.6574\n",
       "Fence         2348    80.4385\n",
       "MiscFeature   2814    96.4029\n",
       "SaleType         1     0.0343"
      ]
     },
     "execution_count": 7,
     "metadata": {},
     "output_type": "execute_result"
    }
   ],
   "source": [
    "missing_data_percentage = (combined_data.isna().sum() / (len(combined_data)) * 100).round(4)\n",
    "missing_data_summary = pd.concat([combined_data.isna().sum(), missing_data_percentage.rename('% Missing')], axis=1)\n",
    "\n",
    "# Filter out columns with 0% missing data\n",
    "missing_data_summary = missing_data_summary[missing_data_summary['% Missing'] != 0]\n",
    "missing_data_summary"
   ]
  },
  {
   "cell_type": "markdown",
   "metadata": {},
   "source": [
    "### 2.2 Missing Data Treatment Strategies\n",
    "Based on the above analysis above, the missing data of each column of both datasets are treated as follows.<br><br>\n",
    "The general approach:<br>\n",
    "1. Categories with most data missing (>=80%) will be dropped since their contribution to the final price is largely unknown.\n",
    "2. Other categories: we will decide based on their perceived importance to decide the price and the amount of data missing.\n",
    "3. Rows with missing data cannot be removed if they are in the test data set.\n",
    "\n",
    "**DROPPED FEATURES**<br>\n",
    "\n",
    "Alley, PoolQC, Fence, MiscFeature: dropped as per 1.<br>\n",
    "PoolArea: dropped because PoolQC is already dropped.<br>\n",
    "\n",
    "**GENERAL CATEGORICAL FEATURES**<br>\n",
    "\n",
    "Exterior1st, Exterior2st: missing data < 0.1%, so we will just fill with the 'most frequent' categorical value <br>\n",
    "MSZoning: This has HIGH impact on the final sales price, but the amount of missing data is too small, we will use the `most frequent` value for the missing cells<br>\n",
    "Utilities: This has MEDIUM impact on the final sales price, the amount of missing data is too small, but all of the missing data are in the test set so we can't just remove the rows. This is a categorical feature, we will fill the missing cell with the `most frequent` category<br>\n",
    "SaleType: Only 1 cell has missing data, we will just fill it will the middle category of 'Con'\n",
    "\n",
    "**GENERAL CATEGORICAL FEATURES**<br>\n",
    "MasVnrType: This has MEDIUM-LOW impact on the final sales price; the amount of missing data is high, fill with a random value of `Brick Face` or `Cinder Block` or `None`.<br>\n",
    "FireplaceQu: This has HIGH impact on the final sales price since the US is very cold in the winter; but the amount of missing data quite high, we will fill with a random value in the set of middle values [`Gd`, `TA`, `Fa`, `Po`].<br>\n",
    "Electrical: Only 1 cell has missing data. For speed, we will just fill with some random value.\n",
    "KitchenQual: Only 1 cell has missing data. For speed, we will just fill with some random value.\n",
    "Functional: Only 2 cell have missing data. For speed, we will just fill with some random value.\n",
    "\n",
    "**NUMERICAL FEATURES**<br>\n",
    "LotFrontage: This has MEDIUM-HIGH impact on the final sales price, but the amount of missing data is not high, we will use the `MEAN` value of the corresponding MSZoning for the missing cells.<br>\n",
    "MasVnrArea: The amount of missing data is too small, we will just use the `MEAN` value.<br>\n",
    "\n",
    "**BASEMENT CATEGORICAL FEATURES:**<br>\n",
    "BsmtQual, BsmtCond, BsmtExposure, BsmtFinType1, BsmtFinType2: just use random categorical values since the amount of missing data is < 3%<br>\n",
    "\n",
    "**BASEMENT NUMERICAL FEATURES:**<br>\n",
    "BsmtFinSF1, BsmtFinSF2, BsmtUnfSF, TotalBsmtSF, BsmtFullBath, BsmtHalfBath: just use MEAN values for each since the amount of missing data is < 3%<br>\n",
    "\n",
    "The below garage features are inter-related. Combined they can have significant influence on the selling price. Our strategy to fill in missing data related to the garage based on the predominant characteristics of properties within the same zone.<br>\n",
    "**GARAGE CATEGORICAL FEATURES:**<br>\n",
    "GarageType, GarageFinish, GarageQual, GarageCond: the strategy is to fill in missing data based on the predominant characteristics of properties within the same MSZoning.\n",
    "\n",
    "**GARAGE NUMERICAL FEATURES:**<br>\n",
    "GarageYrBlt, GarageCars, GarageArea: the strategy is to fill in missing data based on the predominant characteristics of properties within the same MSZoning."
   ]
  },
  {
   "cell_type": "markdown",
   "metadata": {},
   "source": [
    "### 2.3 Missing Data Treatment\n",
    "Since our treatment strategy of categorical data is less than straitforward, in this project, we will treat these data BEFORE digitalization."
   ]
  },
  {
   "cell_type": "code",
   "execution_count": 8,
   "metadata": {},
   "outputs": [],
   "source": [
    "# Alley, PoolQC, Fence, MiscFeature\n",
    "train_data.drop([\"Alley\", \"PoolQC\", \"Fence\", \"MiscFeature\", \"PoolArea\"], axis=1, inplace=True)\n",
    "test_data.drop([\"Alley\", \"PoolQC\", \"Fence\", \"MiscFeature\", \"PoolArea\"], axis=1, inplace=True)"
   ]
  },
  {
   "cell_type": "code",
   "execution_count": 9,
   "metadata": {},
   "outputs": [
    {
     "name": "stdout",
     "output_type": "stream",
     "text": [
      "Id               0\n",
      "MSSubClass       0\n",
      "MSZoning         0\n",
      "LotFrontage      0\n",
      "LotArea          0\n",
      "Street           0\n",
      "LotShape         0\n",
      "LandContour      0\n",
      "Utilities        0\n",
      "LotConfig        0\n",
      "LandSlope        0\n",
      "Neighborhood     0\n",
      "Condition1       0\n",
      "Condition2       0\n",
      "BldgType         0\n",
      "HouseStyle       0\n",
      "OverallQual      0\n",
      "OverallCond      0\n",
      "YearBuilt        0\n",
      "YearRemodAdd     0\n",
      "RoofStyle        0\n",
      "RoofMatl         0\n",
      "Exterior1st      0\n",
      "Exterior2nd      0\n",
      "MasVnrType       0\n",
      "MasVnrArea       0\n",
      "ExterQual        0\n",
      "ExterCond        0\n",
      "Foundation       0\n",
      "BsmtQual         0\n",
      "BsmtCond         0\n",
      "BsmtExposure     0\n",
      "BsmtFinType1     0\n",
      "BsmtFinSF1       0\n",
      "BsmtFinType2     0\n",
      "BsmtFinSF2       0\n",
      "BsmtUnfSF        0\n",
      "TotalBsmtSF      0\n",
      "Heating          0\n",
      "HeatingQC        0\n",
      "CentralAir       0\n",
      "Electrical       0\n",
      "1stFlrSF         0\n",
      "2ndFlrSF         0\n",
      "LowQualFinSF     0\n",
      "GrLivArea        0\n",
      "BsmtFullBath     0\n",
      "BsmtHalfBath     0\n",
      "FullBath         0\n",
      "HalfBath         0\n",
      "BedroomAbvGr     0\n",
      "KitchenAbvGr     0\n",
      "KitchenQual      0\n",
      "TotRmsAbvGrd     0\n",
      "Functional       0\n",
      "Fireplaces       0\n",
      "FireplaceQu      0\n",
      "GarageType       0\n",
      "GarageYrBlt      0\n",
      "GarageFinish     0\n",
      "GarageCars       0\n",
      "GarageArea       0\n",
      "GarageQual       0\n",
      "GarageCond       0\n",
      "PavedDrive       0\n",
      "WoodDeckSF       0\n",
      "OpenPorchSF      0\n",
      "EnclosedPorch    0\n",
      "3SsnPorch        0\n",
      "ScreenPorch      0\n",
      "MiscVal          0\n",
      "MoSold           0\n",
      "YrSold           0\n",
      "SaleType         0\n",
      "SaleCondition    0\n",
      "SalePrice        0\n",
      "dtype: int64\n",
      "Id               0\n",
      "MSSubClass       0\n",
      "MSZoning         0\n",
      "LotFrontage      0\n",
      "LotArea          0\n",
      "Street           0\n",
      "LotShape         0\n",
      "LandContour      0\n",
      "Utilities        0\n",
      "LotConfig        0\n",
      "LandSlope        0\n",
      "Neighborhood     0\n",
      "Condition1       0\n",
      "Condition2       0\n",
      "BldgType         0\n",
      "HouseStyle       0\n",
      "OverallQual      0\n",
      "OverallCond      0\n",
      "YearBuilt        0\n",
      "YearRemodAdd     0\n",
      "RoofStyle        0\n",
      "RoofMatl         0\n",
      "Exterior1st      0\n",
      "Exterior2nd      0\n",
      "MasVnrType       0\n",
      "MasVnrArea       0\n",
      "ExterQual        0\n",
      "ExterCond        0\n",
      "Foundation       0\n",
      "BsmtQual         0\n",
      "BsmtCond         0\n",
      "BsmtExposure     0\n",
      "BsmtFinType1     0\n",
      "BsmtFinSF1       0\n",
      "BsmtFinType2     0\n",
      "BsmtFinSF2       0\n",
      "BsmtUnfSF        0\n",
      "TotalBsmtSF      0\n",
      "Heating          0\n",
      "HeatingQC        0\n",
      "CentralAir       0\n",
      "Electrical       0\n",
      "1stFlrSF         0\n",
      "2ndFlrSF         0\n",
      "LowQualFinSF     0\n",
      "GrLivArea        0\n",
      "BsmtFullBath     0\n",
      "BsmtHalfBath     0\n",
      "FullBath         0\n",
      "HalfBath         0\n",
      "BedroomAbvGr     0\n",
      "KitchenAbvGr     0\n",
      "KitchenQual      0\n",
      "TotRmsAbvGrd     0\n",
      "Functional       0\n",
      "Fireplaces       0\n",
      "FireplaceQu      0\n",
      "GarageType       0\n",
      "GarageYrBlt      0\n",
      "GarageFinish     0\n",
      "GarageCars       0\n",
      "GarageArea       0\n",
      "GarageQual       0\n",
      "GarageCond       0\n",
      "PavedDrive       0\n",
      "WoodDeckSF       0\n",
      "OpenPorchSF      0\n",
      "EnclosedPorch    0\n",
      "3SsnPorch        0\n",
      "ScreenPorch      0\n",
      "MiscVal          0\n",
      "MoSold           0\n",
      "YrSold           0\n",
      "SaleType         0\n",
      "SaleCondition    0\n",
      "dtype: int64\n"
     ]
    }
   ],
   "source": [
    "from sklearn.pipeline import Pipeline\n",
    "from sklearn.impute import SimpleImputer\n",
    "from sklearn.preprocessing import OneHotEncoder\n",
    "from sklearn.compose import ColumnTransformer\n",
    "from sklearn.neural_network import MLPClassifier\n",
    "\n",
    "# Set random seed for reproducibility\n",
    "np.random.seed(42)\n",
    "\n",
    "# GENERAL CATEGORICAL FEATURES\n",
    "general_cat_features = ['Exterior1st', 'Exterior2nd', 'MSZoning', 'Utilities', 'SaleType']\n",
    "# Filling missing data with the most frequent value\n",
    "for feature in general_cat_features:\n",
    "    most_frequent_value = train_data[feature].mode()[0]\n",
    "    train_data[feature] = train_data[feature].fillna(most_frequent_value)\n",
    "    test_data[feature] = test_data[feature].fillna(most_frequent_value)\n",
    "\n",
    "# MasVnrType\n",
    "train_data['MasVnrType'] = train_data['MasVnrType'].fillna(pd.Series(np.random.choice(['BrkFace', 'Cinder', 'None'], size=len(train_data.index))))\n",
    "test_data['MasVnrType'] = test_data['MasVnrType'].fillna(pd.Series(np.random.choice(['BrkFace', 'Cinder', 'None'], size=len(test_data.index))))\n",
    "\n",
    "# FireplaceQu\n",
    "train_data['FireplaceQu'] = train_data['FireplaceQu'].fillna(pd.Series(np.random.choice(['Gd', 'TA', 'Fa', 'Po'], size=len(train_data.index))))\n",
    "test_data['FireplaceQu'] = test_data['FireplaceQu'].fillna(pd.Series(np.random.choice(['Gd', 'TA', 'Fa', 'Po'], size=len(test_data.index))))\n",
    "\n",
    "# Electrical, KitchenQual, Functional\n",
    "for feature in ['Electrical', 'KitchenQual', 'Functional']:\n",
    "    random_value = pd.Series(np.random.choice(train_data[feature].dropna().unique(), size=len(train_data.index))).mode()[0]\n",
    "    train_data[feature] = train_data[feature].fillna(random_value)\n",
    "    test_data[feature] = test_data[feature].fillna(random_value)\n",
    "\n",
    "# GENERAL NUMERICAL FEATURES\n",
    "numerical_features = ['LotFrontage', 'MasVnrArea']\n",
    "# Filling missing data with mean\n",
    "for feature in numerical_features:\n",
    "    train_data[feature] = train_data.groupby('MSZoning')[feature].transform(lambda x: x.fillna(x.mean()))\n",
    "    test_data[feature] = test_data.groupby('MSZoning')[feature].transform(lambda x: x.fillna(x.mean()))\n",
    "\n",
    "# BASEMENT CATEGORICAL FEATURES\n",
    "basement_cat_features = ['BsmtQual', 'BsmtCond', 'BsmtExposure', 'BsmtFinType1', 'BsmtFinType2']\n",
    "# Filling missing data with random categorical values\n",
    "for feature in basement_cat_features:\n",
    "    train_data[feature] = train_data[feature].fillna(pd.Series(np.random.choice(train_data[feature].dropna().unique(), size=len(train_data.index))))\n",
    "    test_data[feature] = test_data[feature].fillna(pd.Series(np.random.choice(test_data[feature].dropna().unique(), size=len(test_data.index))))\n",
    "\n",
    "# BASEMENT NUMERICAL FEATURES\n",
    "basement_num_features = ['BsmtFinSF1', 'BsmtFinSF2', 'BsmtUnfSF', 'TotalBsmtSF', 'BsmtFullBath', 'BsmtHalfBath']\n",
    "# Filling missing data with mean\n",
    "for feature in basement_num_features:\n",
    "    train_data[feature] = train_data[feature].fillna(train_data[feature].mean())\n",
    "    test_data[feature] = test_data[feature].fillna(test_data[feature].mean())\n",
    "\n",
    "# GARAGE CATEGORICAL FEATURES\n",
    "garage_cat_features = ['GarageType', 'GarageFinish', 'GarageQual', 'GarageCond']\n",
    "# Filling missing data with the most frequent value within each MSZoning\n",
    "for feature in garage_cat_features:\n",
    "    most_frequent_value_by_mszoning = train_data.groupby('MSZoning')[feature].apply(lambda x: x.mode()[0])\n",
    "    train_data[feature] = train_data.apply(lambda row: most_frequent_value_by_mszoning[row['MSZoning']] if pd.isnull(row[feature]) else row[feature], axis=1)\n",
    "    test_data[feature] = test_data.apply(lambda row: most_frequent_value_by_mszoning[row['MSZoning']] if pd.isnull(row[feature]) else row[feature], axis=1)\n",
    "\n",
    "# GARAGE NUMERICAL FEATURES\n",
    "garage_num_features = ['GarageYrBlt', 'GarageCars', 'GarageArea']\n",
    "# Filling missing data with the mean value within each MSZoning\n",
    "for feature in garage_num_features:\n",
    "    mean_value_by_mszoning = train_data.groupby('MSZoning')[feature].mean()\n",
    "    train_data[feature] = train_data.apply(lambda row: mean_value_by_mszoning[row['MSZoning']] if pd.isnull(row[feature]) else row[feature], axis=1)\n",
    "    test_data[feature] = test_data.apply(lambda row: mean_value_by_mszoning[row['MSZoning']] if pd.isnull(row[feature]) else row[feature], axis=1)\n",
    "\n",
    "# Confirming no missing values are left\n",
    "print(train_data.isnull().sum())\n",
    "print(test_data.isnull().sum())\n"
   ]
  },
  {
   "cell_type": "markdown",
   "metadata": {},
   "source": [
    "### 2.4 SAVE THE CLEAN DATA"
   ]
  },
  {
   "cell_type": "code",
   "execution_count": 10,
   "metadata": {},
   "outputs": [
    {
     "name": "stdout",
     "output_type": "stream",
     "text": [
      "Data saved successfully.\n"
     ]
    }
   ],
   "source": [
    "# Save train_data DataFrame to CSV\n",
    "train_data.to_csv(\"./data/clean_train_data.csv\", index=False)\n",
    "test_data.to_csv(\"./data/clean_test_data.csv\", index=False)\n",
    "print(\"Data saved successfully.\")"
   ]
  },
  {
   "cell_type": "markdown",
   "metadata": {},
   "source": [
    "## 3. SELECT A MODEL AND FIT DATA"
   ]
  },
  {
   "cell_type": "markdown",
   "metadata": {},
   "source": [
    "### 3.1 SPLIT TRAIN DATA"
   ]
  },
  {
   "cell_type": "code",
   "execution_count": 57,
   "metadata": {},
   "outputs": [],
   "source": [
    "# Import tools\n",
    "import numpy as np # np is short for numpy\n",
    "import pandas as pd # pandas is so commonly used, it's shortened to pd\n",
    "import matplotlib.pyplot as plt\n",
    "import seaborn as sns # seaborn gets shortened to sns\n",
    "\n",
    "# We want our plots to appear in the notebook\n",
    "%matplotlib inline \n",
    "\n",
    "## Models\n",
    "from sklearn.ensemble import RandomForestRegressor\n",
    "from sklearn.linear_model import LinearRegression\n",
    "\n",
    "## Model evaluators\n",
    "from sklearn.model_selection import train_test_split, cross_val_score\n",
    "from sklearn.model_selection import RandomizedSearchCV, GridSearchCV\n",
    "from sklearn.metrics import confusion_matrix, classification_report\n",
    "from sklearn.metrics import precision_score, recall_score, f1_score, mean_squared_error, mean_absolute_error\n",
    "from sklearn.metrics import RocCurveDisplay # new in Scikit-Learn 1.2+\n",
    "from sklearn.pipeline import Pipeline\n",
    "from sklearn.preprocessing import StandardScaler, OneHotEncoder\n",
    "from sklearn.compose import ColumnTransformer\n",
    "\n",
    "# Load the clean data back from files\n",
    "train_data = pd.read_csv('data/clean_train_data.csv')\n",
    "\n",
    "X = train_data.drop(['Id', 'SalePrice'], axis=1)\n",
    "y = train_data[\"SalePrice\"]\n",
    "\n",
    "X_train, X_test, y_train, y_test = train_test_split(X, y, test_size=0.2, random_state=42)"
   ]
  },
  {
   "cell_type": "code",
   "execution_count": 58,
   "metadata": {},
   "outputs": [
    {
     "data": {
      "text/plain": [
       "((1460, 76), (1459, 75))"
      ]
     },
     "execution_count": 58,
     "metadata": {},
     "output_type": "execute_result"
    }
   ],
   "source": [
    "train_data.shape, test_data.shape"
   ]
  },
  {
   "cell_type": "markdown",
   "metadata": {},
   "source": [
    "### 3.1 CONVERT DATA TO NUMERICAL"
   ]
  },
  {
   "cell_type": "code",
   "execution_count": 59,
   "metadata": {},
   "outputs": [],
   "source": [
    "# Define the preprocessing steps\n",
    "numeric_features = X.select_dtypes(include=['int64', 'float64']).columns\n",
    "categorical_features = X.select_dtypes(include=['object', 'category']).columns\n",
    "\n",
    "numeric_transformer = Pipeline(steps=[\n",
    "    ('scaler', StandardScaler())\n",
    "])\n",
    "\n",
    "categorical_transformer = Pipeline(steps=[\n",
    "    ('encoder', OneHotEncoder(handle_unknown='ignore'))\n",
    "])\n",
    "\n",
    "preprocessor = ColumnTransformer(\n",
    "    transformers=[\n",
    "        ('num', numeric_transformer, numeric_features),\n",
    "        ('cat', categorical_transformer, categorical_features)\n",
    "    ]\n",
    ")\n",
    "\n",
    "# Create a preprocessing and model pipeline\n",
    "rf_pipeline = Pipeline(steps=[\n",
    "    ('preprocessor', preprocessor),\n",
    "    ('model', RandomForestRegressor(random_state=42))\n",
    "])\n",
    "\n",
    "lr_pipeline = Pipeline(steps=[\n",
    "    ('preprocessor', preprocessor),\n",
    "    ('model', LinearRegression())\n",
    "])\n"
   ]
  },
  {
   "cell_type": "markdown",
   "metadata": {},
   "source": [
    "### 3.2 LET'S TRY WITH THE RANDOMFORESTREGRESSOR & LINEARREGRESSION ALGORITHMS AND SEE HOW THEY PERFORM"
   ]
  },
  {
   "cell_type": "code",
   "execution_count": 60,
   "metadata": {},
   "outputs": [
    {
     "name": "stdout",
     "output_type": "stream",
     "text": [
      "RandomForestRegressor RMSE (log-transformed): 0.15369764902258493\n",
      "RandomForestRegressor MAE: 17708.594965753426\n",
      "RandomForestRegressor MAPE: 10.799120121073557%\n",
      "LinearRegression RMSE (log-transformed): 0.18296254044703006\n",
      "LinearRegression MAE: 19108.599308536617\n",
      "LinearRegression MAPE: 11.855895839908454%\n"
     ]
    }
   ],
   "source": [
    "# Train the RandomForestRegressor model\n",
    "rf_pipeline.fit(X_train, y_train)\n",
    "y_pred_rf = rf_pipeline.predict(X_test)\n",
    "\n",
    "# Train the LinearRegression model\n",
    "lr_pipeline.fit(X_train, y_train)\n",
    "y_pred_lr = lr_pipeline.predict(X_test)\n",
    "\n",
    "# Calculate RMSE between the logarithm of the predicted values and the logarithm of the observed values\n",
    "log_y_test = np.log1p(y_test)  # log1p is used for log(1 + x) to handle zero values properly\n",
    "log_y_pred_rf = np.log1p(y_pred_rf)\n",
    "log_y_pred_lr = np.log1p(y_pred_lr)\n",
    "\n",
    "rmse_rf = np.sqrt(mean_squared_error(log_y_test, log_y_pred_rf))\n",
    "rmse_lr = np.sqrt(mean_squared_error(log_y_test, log_y_pred_lr))\n",
    "\n",
    "# Calculate Mean Absolute Error (MAE) and Mean Absolute Percentage Error (MAPE)\n",
    "mae_rf = mean_absolute_error(y_test, y_pred_rf)\n",
    "mae_lr = mean_absolute_error(y_test, y_pred_lr)\n",
    "\n",
    "mape_rf = np.mean(np.abs((y_test - y_pred_rf) / y_test)) * 100\n",
    "mape_lr = np.mean(np.abs((y_test - y_pred_lr) / y_test)) * 100\n",
    "\n",
    "print(f'RandomForestRegressor RMSE (log-transformed): {rmse_rf}')\n",
    "print(f'RandomForestRegressor MAE: {mae_rf}')\n",
    "print(f'RandomForestRegressor MAPE: {mape_rf}%')\n",
    "print(f'LinearRegression RMSE (log-transformed): {rmse_lr}')\n",
    "print(f'LinearRegression MAE: {mae_lr}')\n",
    "print(f'LinearRegression MAPE: {mape_lr}%')"
   ]
  },
  {
   "cell_type": "markdown",
   "metadata": {},
   "source": [
    "Overall, the RandomForestRegressor performs better for this problem in all selected metrics. We will continue to fineturn this algorithm."
   ]
  },
  {
   "cell_type": "markdown",
   "metadata": {},
   "source": [
    "## 4. MODEL HYPERPARAMETER TUNING"
   ]
  },
  {
   "cell_type": "markdown",
   "metadata": {},
   "source": [
    "### 4.1 PERFORMANCE BEFORE TUNING"
   ]
  },
  {
   "cell_type": "code",
   "execution_count": 61,
   "metadata": {},
   "outputs": [
    {
     "data": {
      "image/png": "[encoded data removed]",
      "text/plain": [
       "<Figure size 1000x600 with 1 Axes>"
      ]
     },
     "metadata": {},
     "output_type": "display_data"
    }
   ],
   "source": [
    "# Let's plot the true prices vs the prices predicted by the RandomForestRegressor\n",
    "plt.figure(figsize=(10, 6))\n",
    "plt.scatter(y_test, y_pred_rf, alpha=0.5, label='Predicted Prices', color='blue')\n",
    "plt.plot([min(y_test), max(y_test)], [min(y_test), max(y_test)], color='red', label='Ideal Fit')\n",
    "plt.xlabel('True Prices')\n",
    "plt.ylabel('Predicted Prices')\n",
    "plt.title('True Prices vs Predicted Prices')\n",
    "plt.legend()\n",
    "plt.show()"
   ]
  },
  {
   "cell_type": "markdown",
   "metadata": {},
   "source": [
    "### 4.2 HYPERPARAMETER TUNING"
   ]
  },
  {
   "cell_type": "markdown",
   "metadata": {},
   "source": [
    "#### 4.2.1 GridSearchCV"
   ]
  },
  {
   "cell_type": "code",
   "execution_count": 62,
   "metadata": {},
   "outputs": [
    {
     "name": "stdout",
     "output_type": "stream",
     "text": [
      "Best parameters: {'model__bootstrap': True, 'model__max_depth': 10, 'model__min_samples_leaf': 1, 'model__min_samples_split': 2, 'model__n_estimators': 100}\n",
      "RandomForestRegressor RMSE (log-transformed): 0.154880267669835\n"
     ]
    },
    {
     "data": {
      "image/png": "[encoded data removed]",
      "text/plain": [
       "<Figure size 1000x600 with 1 Axes>"
      ]
     },
     "metadata": {},
     "output_type": "display_data"
    }
   ],
   "source": [
    "# Set the random seed for NumPy\n",
    "np.random.seed(42)\n",
    "\n",
    "# Define the parameter grid\n",
    "param_grid = {\n",
    "    'model__n_estimators': [100, 200, 300],\n",
    "    'model__max_depth': [None, 10, 20, 30],\n",
    "    'model__min_samples_split': [2, 5, 10],\n",
    "    'model__min_samples_leaf': [1, 2, 4],\n",
    "    'model__bootstrap': [True, False]\n",
    "}\n",
    "\n",
    "# Perform Grid Search\n",
    "grid_search = GridSearchCV(rf_pipeline, param_grid, cv=3, scoring='neg_mean_squared_error', n_jobs=-1)\n",
    "grid_search.fit(X_train, y_train)\n",
    "\n",
    "# Get the best parameters\n",
    "best_params = grid_search.best_params_\n",
    "print(f'Best parameters: {best_params}')\n",
    "\n",
    "# Predict using the best model\n",
    "best_model = grid_search.best_estimator_\n",
    "y_pred_rf = best_model.predict(X_test)\n",
    "\n",
    "# Calculate RMSE between the logarithm of the predicted values and the logarithm of the observed values\n",
    "log_y_test = np.log1p(y_test)  # log1p is used for log(1 + x) to handle zero values properly\n",
    "log_y_pred_rf = np.log1p(y_pred_rf)\n",
    "\n",
    "rmse_rf = np.sqrt(mean_squared_error(log_y_test, log_y_pred_rf))\n",
    "print(f'RandomForestRegressor RMSE (log-transformed): {rmse_rf}')\n",
    "\n",
    "# Plotting the true prices and the prices predicted by the tuned RandomForestRegressor\n",
    "plt.figure(figsize=(10, 6))\n",
    "plt.scatter(y_test, y_pred_rf, alpha=0.5, label='Predicted Prices', color='blue')\n",
    "plt.plot([min(y_test), max(y_test)], [min(y_test), max(y_test)], color='red', label='Ideal Fit')\n",
    "plt.xlabel('True Prices')\n",
    "plt.ylabel('Predicted Prices')\n",
    "plt.title('True Prices vs Predicted Prices (GridSearchCV Tuned RandomForestRegressor)')\n",
    "plt.legend()\n",
    "plt.show()"
   ]
  },
  {
   "cell_type": "markdown",
   "metadata": {},
   "source": [
    "RESULT:\n",
    "Best parameters: {'model__bootstrap': True, 'model__max_depth': None, 'model__min_samples_leaf': 1, 'model__min_samples_split': 2, 'model__n_estimators': 100}\r\n",
    "RandomForestRegressor RMSE (log-transformed): 0.1543728017040282 (Same as Original 0.15437280170402828)\n",
    "=> There is not much improvement.\n",
    "Let's us try a random tuning approach with large ranges for parameters. 8"
   ]
  },
  {
   "cell_type": "markdown",
   "metadata": {},
   "source": [
    "#### 4.2.2 RandomizedSearchCV"
   ]
  },
  {
   "cell_type": "code",
   "execution_count": 63,
   "metadata": {},
   "outputs": [
    {
     "name": "stdout",
     "output_type": "stream",
     "text": [
      "Best parameters: {'model__n_estimators': 500, 'model__min_samples_split': 5, 'model__min_samples_leaf': 1, 'model__max_depth': 20, 'model__bootstrap': True}\n",
      "RandomForestRegressor RMSE (log-transformed): 0.15219296839152505\n"
     ]
    },
    {
     "data": {
      "image/png": "[encoded data removed]",
      "text/plain": [
       "<Figure size 1000x600 with 1 Axes>"
      ]
     },
     "metadata": {},
     "output_type": "display_data"
    }
   ],
   "source": [
    "import joblib\n",
    "\n",
    "# Define the parameter distribution\n",
    "param_dist = {\n",
    "    'model__n_estimators': [100, 200, 300, 400, 500],\n",
    "    'model__max_depth': [None, 10, 20, 30, 40, 50],\n",
    "    'model__min_samples_split': [2, 5, 10, 15, 20],\n",
    "    'model__min_samples_leaf': [1, 2, 4, 6, 8],\n",
    "    'model__bootstrap': [True, False]\n",
    "}\n",
    "\n",
    "# Perform Randomized Search\n",
    "random_search = RandomizedSearchCV(rf_pipeline, param_dist, n_iter=50, cv=3, scoring='neg_mean_squared_error', n_jobs=-1, random_state=42)\n",
    "random_search.fit(X_train, y_train)\n",
    "\n",
    "# Get the best parameters\n",
    "best_params = random_search.best_params_\n",
    "print(f'Best parameters: {best_params}')\n",
    "\n",
    "# Predict using the best model\n",
    "best_model = random_search.best_estimator_\n",
    "y_pred_rf = best_model.predict(X_test)\n",
    "\n",
    "# Calculate RMSE between the logarithm of the predicted values and the logarithm of the observed values\n",
    "log_y_test = np.log1p(y_test)  # log1p is used for log(1 + x) to handle zero values properly\n",
    "log_y_pred_rf = np.log1p(y_pred_rf)\n",
    "\n",
    "rmse_rf = np.sqrt(mean_squared_error(log_y_test, log_y_pred_rf))\n",
    "print(f'RandomForestRegressor RMSE (log-transformed): {rmse_rf}')\n",
    "\n",
    "# Plotting the true prices and the prices predicted by the tuned RandomForestRegressor\n",
    "plt.figure(figsize=(10, 6))\n",
    "plt.scatter(y_test, y_pred_rf, alpha=0.5, label='Predicted Prices', color='blue')\n",
    "plt.plot([min(y_test), max(y_test)], [min(y_test), max(y_test)], color='red', label='Ideal Fit')\n",
    "plt.xlabel('True Prices')\n",
    "plt.ylabel('Predicted Prices')\n",
    "plt.title('True Prices vs Predicted Prices (Tuned RandomForestRegressor)')\n",
    "plt.legend()\n",
    "plt.show()"
   ]
  },
  {
   "cell_type": "markdown",
   "metadata": {},
   "source": [
    "RESULT: After several goes with different seeding values, the below is the best result achieved on a PC:\n",
    "Best parameters: {'model__n_estimators': 500, 'model__min_samples_split': 5, 'model__min_samples_leaf': 1, 'model__max_depth': 20, 'model__bootstrap': True}\r\n",
    "RandomForestRegressor RMSE (log-transformed): 0.1525899421173537 (slight better than original 0.15437280170402828)\n",
    "We will use these hyperparameters for the test data.7"
   ]
  },
  {
   "cell_type": "code",
   "execution_count": 64,
   "metadata": {},
   "outputs": [],
   "source": [
    "# Save the best performing model to file\n",
    "import pickle\n",
    "pickle.dump(best_model, open(\"best_random_forest_model.pkl\", \"wb\")) # wb = write binary to file"
   ]
  },
  {
   "cell_type": "markdown",
   "metadata": {},
   "source": [
    "#### 4.2.3 Check the saved model"
   ]
  },
  {
   "cell_type": "code",
   "execution_count": 67,
   "metadata": {},
   "outputs": [
    {
     "name": "stdout",
     "output_type": "stream",
     "text": [
      "Model Parameters:\n",
      "n_estimators: 500\n",
      "max_depth: 20\n",
      "min_samples_split: 5\n",
      "min_samples_leaf: 1\n",
      "bootstrap: True\n"
     ]
    }
   ],
   "source": [
    "# Load the model back from file\n",
    "loaded_model = pickle.load(open(\"best_random_forest_model.pkl\", \"rb\")) # rb = read binary\n",
    "\n",
    "# Let's print out the tuned hyperparameters\n",
    "# Print out the specific parameters of the loaded model\n",
    "print(\"Model Parameters:\")\n",
    "print(\"n_estimators:\", loaded_model.named_steps['model'].n_estimators)\n",
    "print(\"max_depth:\", loaded_model.named_steps['model'].max_depth)\n",
    "print(\"min_samples_split:\", loaded_model.named_steps['model'].min_samples_split)\n",
    "print(\"min_samples_leaf:\", loaded_model.named_steps['model'].min_samples_leaf)\n",
    "print(\"bootstrap:\", loaded_model.named_steps['model'].bootstrap)"
   ]
  },
  {
   "cell_type": "markdown",
   "metadata": {},
   "source": [
    "## 5. PERFORMANCE ON REAL DATA AND SUBMISSION"
   ]
  },
  {
   "cell_type": "code",
   "execution_count": 76,
   "metadata": {},
   "outputs": [],
   "source": [
    "# Load the clean test data file\n",
    "test_data = pd.read_csv('data/clean_test_data.csv')\n",
    "test_ids = test_data['Id']\n",
    "test_data = test_data.drop(\"Id\", axis=1)"
   ]
  },
  {
   "cell_type": "markdown",
   "metadata": {},
   "source": [
    "### 5.1 CONVERT DATA TO NUMERICAL"
   ]
  },
  {
   "cell_type": "code",
   "execution_count": 93,
   "metadata": {},
   "outputs": [
    {
     "data": {
      "text/plain": [
       "((1459, 74), (1459, 259))"
      ]
     },
     "execution_count": 93,
     "metadata": {},
     "output_type": "execute_result"
    }
   ],
   "source": [
    "# Define the preprocessing steps\n",
    "numeric_features = test_data.select_dtypes(include=['int64', 'float64']).columns\n",
    "categorical_features = test_data.select_dtypes(include=['object', 'category']).columns\n",
    "\n",
    "numeric_transformer = Pipeline(steps=[\n",
    "    ('scaler', StandardScaler())\n",
    "])\n",
    "\n",
    "categorical_transformer = Pipeline(steps=[\n",
    "    ('encoder', OneHotEncoder(handle_unknown='ignore'))\n",
    "])\n",
    "\n",
    "preprocessor = ColumnTransformer(\n",
    "    transformers=[\n",
    "        ('num', numeric_transformer, numeric_features),\n",
    "        ('cat', categorical_transformer, categorical_features)\n",
    "    ]\n",
    ")\n",
    "\n",
    "# Fit the ColumnTransformer on the test data\n",
    "preprocessor.fit(test_data)\n",
    "\n",
    "# Preprocess the test data\n",
    "test_data_digitalized = preprocessor.transform(test_data)\n",
    "test_data.shape, test_data_digitalized.shape"
   ]
  },
  {
   "cell_type": "markdown",
   "metadata": {},
   "source": [
    "### 5.2 MAKE PREDICTIONS USING THE BEST MODEL"
   ]
  },
  {
   "cell_type": "code",
   "execution_count": 91,
   "metadata": {},
   "outputs": [
    {
     "ename": "ValueError",
     "evalue": "X has 259 features, but ColumnTransformer is expecting 74 features as input.",
     "output_type": "error",
     "traceback": [
      "\u001b[1;31m---------------------------------------------------------------------------\u001b[0m",
      "\u001b[1;31mValueError\u001b[0m                                Traceback (most recent call last)",
      "Cell \u001b[1;32mIn[91], line 3\u001b[0m\n\u001b[0;32m      1\u001b[0m \u001b[38;5;66;03m# Load the model back from file\u001b[39;00m\n\u001b[0;32m      2\u001b[0m loaded_model \u001b[38;5;241m=\u001b[39m pickle\u001b[38;5;241m.\u001b[39mload(\u001b[38;5;28mopen\u001b[39m(\u001b[38;5;124m\"\u001b[39m\u001b[38;5;124mbest_random_forest_model.pkl\u001b[39m\u001b[38;5;124m\"\u001b[39m, \u001b[38;5;124m\"\u001b[39m\u001b[38;5;124mrb\u001b[39m\u001b[38;5;124m\"\u001b[39m)) \u001b[38;5;66;03m# rb = read binary\u001b[39;00m\n\u001b[1;32m----> 3\u001b[0m y_pred \u001b[38;5;241m=\u001b[39m \u001b[43mloaded_model\u001b[49m\u001b[38;5;241;43m.\u001b[39;49m\u001b[43mpredict\u001b[49m\u001b[43m(\u001b[49m\u001b[43mtest_data_digitalized\u001b[49m\u001b[43m)\u001b[49m\n",
      "File \u001b[1;32mD:\\Data Science Bootcamp\\sample_project_1\\env\\lib\\site-packages\\sklearn\\pipeline.py:507\u001b[0m, in \u001b[0;36mPipeline.predict\u001b[1;34m(self, X, **predict_params)\u001b[0m\n\u001b[0;32m    505\u001b[0m Xt \u001b[38;5;241m=\u001b[39m X\n\u001b[0;32m    506\u001b[0m \u001b[38;5;28;01mfor\u001b[39;00m _, name, transform \u001b[38;5;129;01min\u001b[39;00m \u001b[38;5;28mself\u001b[39m\u001b[38;5;241m.\u001b[39m_iter(with_final\u001b[38;5;241m=\u001b[39m\u001b[38;5;28;01mFalse\u001b[39;00m):\n\u001b[1;32m--> 507\u001b[0m     Xt \u001b[38;5;241m=\u001b[39m \u001b[43mtransform\u001b[49m\u001b[38;5;241;43m.\u001b[39;49m\u001b[43mtransform\u001b[49m\u001b[43m(\u001b[49m\u001b[43mXt\u001b[49m\u001b[43m)\u001b[49m\n\u001b[0;32m    508\u001b[0m \u001b[38;5;28;01mreturn\u001b[39;00m \u001b[38;5;28mself\u001b[39m\u001b[38;5;241m.\u001b[39msteps[\u001b[38;5;241m-\u001b[39m\u001b[38;5;241m1\u001b[39m][\u001b[38;5;241m1\u001b[39m]\u001b[38;5;241m.\u001b[39mpredict(Xt, \u001b[38;5;241m*\u001b[39m\u001b[38;5;241m*\u001b[39mpredict_params)\n",
      "File \u001b[1;32mD:\\Data Science Bootcamp\\sample_project_1\\env\\lib\\site-packages\\sklearn\\utils\\_set_output.py:140\u001b[0m, in \u001b[0;36m_wrap_method_output.<locals>.wrapped\u001b[1;34m(self, X, *args, **kwargs)\u001b[0m\n\u001b[0;32m    138\u001b[0m \u001b[38;5;129m@wraps\u001b[39m(f)\n\u001b[0;32m    139\u001b[0m \u001b[38;5;28;01mdef\u001b[39;00m \u001b[38;5;21mwrapped\u001b[39m(\u001b[38;5;28mself\u001b[39m, X, \u001b[38;5;241m*\u001b[39margs, \u001b[38;5;241m*\u001b[39m\u001b[38;5;241m*\u001b[39mkwargs):\n\u001b[1;32m--> 140\u001b[0m     data_to_wrap \u001b[38;5;241m=\u001b[39m \u001b[43mf\u001b[49m\u001b[43m(\u001b[49m\u001b[38;5;28;43mself\u001b[39;49m\u001b[43m,\u001b[49m\u001b[43m \u001b[49m\u001b[43mX\u001b[49m\u001b[43m,\u001b[49m\u001b[43m \u001b[49m\u001b[38;5;241;43m*\u001b[39;49m\u001b[43margs\u001b[49m\u001b[43m,\u001b[49m\u001b[43m \u001b[49m\u001b[38;5;241;43m*\u001b[39;49m\u001b[38;5;241;43m*\u001b[39;49m\u001b[43mkwargs\u001b[49m\u001b[43m)\u001b[49m\n\u001b[0;32m    141\u001b[0m     \u001b[38;5;28;01mif\u001b[39;00m \u001b[38;5;28misinstance\u001b[39m(data_to_wrap, \u001b[38;5;28mtuple\u001b[39m):\n\u001b[0;32m    142\u001b[0m         \u001b[38;5;66;03m# only wrap the first output for cross decomposition\u001b[39;00m\n\u001b[0;32m    143\u001b[0m         return_tuple \u001b[38;5;241m=\u001b[39m (\n\u001b[0;32m    144\u001b[0m             _wrap_data_with_container(method, data_to_wrap[\u001b[38;5;241m0\u001b[39m], X, \u001b[38;5;28mself\u001b[39m),\n\u001b[0;32m    145\u001b[0m             \u001b[38;5;241m*\u001b[39mdata_to_wrap[\u001b[38;5;241m1\u001b[39m:],\n\u001b[0;32m    146\u001b[0m         )\n",
      "File \u001b[1;32mD:\\Data Science Bootcamp\\sample_project_1\\env\\lib\\site-packages\\sklearn\\compose\\_column_transformer.py:814\u001b[0m, in \u001b[0;36mColumnTransformer.transform\u001b[1;34m(self, X)\u001b[0m\n\u001b[0;32m    810\u001b[0m         \u001b[38;5;28;01mraise\u001b[39;00m \u001b[38;5;167;01mValueError\u001b[39;00m(\u001b[38;5;124mf\u001b[39m\u001b[38;5;124m\"\u001b[39m\u001b[38;5;124mcolumns are missing: \u001b[39m\u001b[38;5;132;01m{\u001b[39;00mdiff\u001b[38;5;132;01m}\u001b[39;00m\u001b[38;5;124m\"\u001b[39m)\n\u001b[0;32m    811\u001b[0m \u001b[38;5;28;01melse\u001b[39;00m:\n\u001b[0;32m    812\u001b[0m     \u001b[38;5;66;03m# ndarray was used for fitting or transforming, thus we only\u001b[39;00m\n\u001b[0;32m    813\u001b[0m     \u001b[38;5;66;03m# check that n_features_in_ is consistent\u001b[39;00m\n\u001b[1;32m--> 814\u001b[0m     \u001b[38;5;28;43mself\u001b[39;49m\u001b[38;5;241;43m.\u001b[39;49m\u001b[43m_check_n_features\u001b[49m\u001b[43m(\u001b[49m\u001b[43mX\u001b[49m\u001b[43m,\u001b[49m\u001b[43m \u001b[49m\u001b[43mreset\u001b[49m\u001b[38;5;241;43m=\u001b[39;49m\u001b[38;5;28;43;01mFalse\u001b[39;49;00m\u001b[43m)\u001b[49m\n\u001b[0;32m    816\u001b[0m Xs \u001b[38;5;241m=\u001b[39m \u001b[38;5;28mself\u001b[39m\u001b[38;5;241m.\u001b[39m_fit_transform(\n\u001b[0;32m    817\u001b[0m     X,\n\u001b[0;32m    818\u001b[0m     \u001b[38;5;28;01mNone\u001b[39;00m,\n\u001b[1;32m   (...)\u001b[0m\n\u001b[0;32m    821\u001b[0m     column_as_strings\u001b[38;5;241m=\u001b[39mfit_dataframe_and_transform_dataframe,\n\u001b[0;32m    822\u001b[0m )\n\u001b[0;32m    823\u001b[0m \u001b[38;5;28mself\u001b[39m\u001b[38;5;241m.\u001b[39m_validate_output(Xs)\n",
      "File \u001b[1;32mD:\\Data Science Bootcamp\\sample_project_1\\env\\lib\\site-packages\\sklearn\\base.py:414\u001b[0m, in \u001b[0;36mBaseEstimator._check_n_features\u001b[1;34m(self, X, reset)\u001b[0m\n\u001b[0;32m    411\u001b[0m     \u001b[38;5;28;01mreturn\u001b[39;00m\n\u001b[0;32m    413\u001b[0m \u001b[38;5;28;01mif\u001b[39;00m n_features \u001b[38;5;241m!=\u001b[39m \u001b[38;5;28mself\u001b[39m\u001b[38;5;241m.\u001b[39mn_features_in_:\n\u001b[1;32m--> 414\u001b[0m     \u001b[38;5;28;01mraise\u001b[39;00m \u001b[38;5;167;01mValueError\u001b[39;00m(\n\u001b[0;32m    415\u001b[0m         \u001b[38;5;124mf\u001b[39m\u001b[38;5;124m\"\u001b[39m\u001b[38;5;124mX has \u001b[39m\u001b[38;5;132;01m{\u001b[39;00mn_features\u001b[38;5;132;01m}\u001b[39;00m\u001b[38;5;124m features, but \u001b[39m\u001b[38;5;132;01m{\u001b[39;00m\u001b[38;5;28mself\u001b[39m\u001b[38;5;241m.\u001b[39m\u001b[38;5;18m__class__\u001b[39m\u001b[38;5;241m.\u001b[39m\u001b[38;5;18m__name__\u001b[39m\u001b[38;5;132;01m}\u001b[39;00m\u001b[38;5;124m \u001b[39m\u001b[38;5;124m\"\u001b[39m\n\u001b[0;32m    416\u001b[0m         \u001b[38;5;124mf\u001b[39m\u001b[38;5;124m\"\u001b[39m\u001b[38;5;124mis expecting \u001b[39m\u001b[38;5;132;01m{\u001b[39;00m\u001b[38;5;28mself\u001b[39m\u001b[38;5;241m.\u001b[39mn_features_in_\u001b[38;5;132;01m}\u001b[39;00m\u001b[38;5;124m features as input.\u001b[39m\u001b[38;5;124m\"\u001b[39m\n\u001b[0;32m    417\u001b[0m     )\n",
      "\u001b[1;31mValueError\u001b[0m: X has 259 features, but ColumnTransformer is expecting 74 features as input."
     ]
    }
   ],
   "source": [
    "# Load the model back from file\n",
    "loaded_model = pickle.load(open(\"best_random_forest_model.pkl\", \"rb\")) # rb = read binary\n",
    "y_pred = loaded_model.predict(test_data_digitalized)"
   ]
  },
  {
   "cell_type": "code",
   "execution_count": null,
   "metadata": {},
   "outputs": [],
   "source": []
  },
  {
   "cell_type": "markdown",
   "metadata": {},
   "source": [
    "### 5.3 SAVE FILE FOR SUBMISSION"
   ]
  },
  {
   "cell_type": "code",
   "execution_count": null,
   "metadata": {},
   "outputs": [],
   "source": [
    "# Create a DataFrame for submission\n",
    "submission_df = pd.DataFrame({'Id': test_ids, 'SalePrice': y_pred})\n",
    "\n",
    "# Save the predictions to a CSV file\n",
    "submission_df.to_csv('submission.csv', index=False)"
   ]
  }
 ],
 "metadata": {
  "colab": {
   "authorship_tag": "ABX9TyPugVtWWXBgjmM+zjPczLbK",
   "mount_file_id": "1CT9fiX2i7FfdUjdZTSANdDp03AdgXxiE",
   "provenance": []
  },
  "kernelspec": {
   "display_name": "Python 3 (ipykernel)",
   "language": "python",
   "name": "python3"
  },
  "language_info": {
   "codemirror_mode": {
    "name": "ipython",
    "version": 3
   },
   "file_extension": ".py",
   "mimetype": "text/x-python",
   "name": "python",
   "nbconvert_exporter": "python",
   "pygments_lexer": "ipython3",
   "version": "3.8.18"
  }
 },
 "nbformat": 4,
 "nbformat_minor": 4
}
